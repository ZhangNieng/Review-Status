{
 "cells": [
  {
   "cell_type": "code",
   "execution_count": 1,
   "id": "e021e552",
   "metadata": {},
   "outputs": [],
   "source": [
    "import time\n",
    "from selenium import webdriver\n",
    "from selenium.webdriver.chrome.service import Service\n",
    "from selenium.webdriver.common.by import By\n",
    "from PIL import Image, ImageEnhance\n",
    "#import ddddocr\n",
    "import smtplib\n",
    "from email.mime.text import MIMEText\n",
    "import requests\n",
    "import json\n",
    "import faker"
   ]
  },
  {
   "cell_type": "code",
   "execution_count": 2,
   "id": "438bfb1d",
   "metadata": {},
   "outputs": [],
   "source": [
    "def imput_information():\n",
    "    with open(\"IEEE.txt\", \"r\") as file:\n",
    "        content = file.read()\n",
    "        content_list = content.split(\"\\n\")\n",
    "    element1 = content_list[0]\n",
    "    element2 = content_list[1]\n",
    "    element3 = content_list[2]\n",
    "    element4 = content_list[3]\n",
    "    element5 = content_list[4]\n",
    "    element6 = content_list[5]\n",
    "    corpid = element1           #  企业id值\n",
    "    corpsecret = element2       # 应用secret值\n",
    "    touser = element3           # 多个用户用|隔开\n",
    "    IEEE_ID = element4          # IEEE 账号\n",
    "    IEEE_PW = element5          # IEEE 密码\n",
    "    IEEE_WB = element6          # IEEE 网址\n",
    "    toparty = \"shaqima\"         # 多个部门用|隔开\n",
    "    totag = \"SCI\"               # 多个标签用|隔开\n",
    "    agentid_ceshi = 1000005     # 应用id,agentid\n",
    "    type_image = \"image\"        # （image）（voice）（video）(file)\n",
    "    return corpid, corpsecret, touser, IEEE_ID, IEEE_PW, IEEE_WB, toparty, totag, agentid_ceshi"
   ]
  },
  {
   "cell_type": "code",
   "execution_count": 3,
   "id": "72bd2055",
   "metadata": {},
   "outputs": [],
   "source": [
    "corpid, corpsecret, touser, IEEE_ID, IEEE_PW, IEEE_WB, toparty, totag, agentid_ceshi = imput_information()"
   ]
  },
  {
   "cell_type": "code",
   "execution_count": 4,
   "id": "00a4a2bc",
   "metadata": {},
   "outputs": [],
   "source": [
    "get_act_url = \"https://qyapi.weixin.qq.com/cgi-bin/gettoken?corpid={}&corpsecret={}\".format(corpid,corpsecret)\n",
    "act_res = requests.get(url=get_act_url).json()\n",
    "access_token = act_res[\"access_token\"]\n",
    "\n",
    "fk = faker.Faker()\n",
    "url = f\"https://qyapi.weixin.qq.com/cgi-bin/message/send?access_token={access_token}&random=69152\"\n",
    "\n",
    "payload = json.dumps({\n",
    "   \"touser\": touser,\n",
    "   \"toparty\": toparty,\n",
    "   #\"totag\": totag,\n",
    "   \"msgtype\": \"text\",\n",
    "   \"agentid\": agentid_ceshi,\n",
    "   \"text\": {\"content\": \"已备份成功2，请查收！\"},\n",
    "   \"safe\": 0,\n",
    "   \"enable_id_trans\": 0,\n",
    "   \"enable_duplicate_check\": 0})\n",
    "headers = {\n",
    "   'User-Agent': fk.user_agent(),\n",
    "   'Content-Type': 'application/json'}\n",
    "\n",
    "response = requests.request(\"POST\", get_act_url, headers=headers, data=payload)\n",
    "\n",
    "\n",
    "def get_access_token():\n",
    "    get_act_url = \"https://qyapi.weixin.qq.com/cgi-bin/gettoken?corpid={}&corpsecret={}\".format(corpid,corpsecret)\n",
    "    act_res = requests.get(url=get_act_url).json()\n",
    "    access_token = act_res[\"access_token\"]\n",
    "    return access_token\n",
    "\n",
    "def send_text_message(message):\n",
    "    send_text_url = \"https://qyapi.weixin.qq.com/cgi-bin/message/send?access_token={}\".format(get_access_token())\n",
    "    data={\n",
    "        \"touser\" : touser, #接收消息的用户\n",
    "        \"msgtype\" : \"text\", #消息类型\n",
    "        \"agentid\" : agentid_ceshi, #应用id\n",
    "        \"text\" : {\n",
    "            \"content\" : message #消息内容\n",
    "            },\n",
    "        \"safe\":0, #0为公开信息，1为保密信息\n",
    "        }\n",
    "    text_message_res = requests.post(url=send_text_url,data=json.dumps(data)).json()\n",
    "    return text_message_res"
   ]
  },
  {
   "cell_type": "code",
   "execution_count": 5,
   "id": "46e9c2b2",
   "metadata": {},
   "outputs": [],
   "source": [
    "def send_myemail(Emailtext):\n",
    "    mail_host = 'smtp.qq.com'\n",
    "    mail_user = '1219310749'\n",
    "    mail_pass = 'oxcqnxkxtxxsifdd'\n",
    "    sender = '1219310749@qq.com'\n",
    "    # 邮件接受方邮箱地址，注意需要[]包裹，这意味着你可以写多个邮件地址群发\n",
    "    receivers = ['zhangnieng@126.com']\n",
    "\n",
    "    message = MIMEText(Emailtext, 'plain', 'utf-8')\n",
    "    message['Subject'] = 'Manuscript Review Status'\n",
    "    message['From'] = sender\n",
    "    message['To'] = receivers[0]\n",
    "\n",
    "    try:\n",
    "        smtpObj = smtplib.SMTP()\n",
    "        # 连接到服务器\n",
    "        smtpObj.connect(mail_host, 25)\n",
    "        # 登录到服务器\n",
    "        smtpObj.login(mail_user, mail_pass)\n",
    "        # 发送\n",
    "        smtpObj.sendmail(sender, receivers, message.as_string())\n",
    "        # 退出\n",
    "        smtpObj.quit()\n",
    "        print('success')\n",
    "    except smtplib.SMTPException as e:\n",
    "        print('error', e)"
   ]
  },
  {
   "cell_type": "code",
   "execution_count": 6,
   "id": "148f1253",
   "metadata": {},
   "outputs": [],
   "source": [
    "# send_myemail(\"Emailtext\")\n",
    "# send_text_message(\"message\")"
   ]
  },
  {
   "cell_type": "code",
   "execution_count": 6,
   "id": "123a6587",
   "metadata": {},
   "outputs": [],
   "source": [
    "#  chrome自动化  chromedriver的位置\n",
    "SS = Service(\"./chromedriver.exe\")\n",
    "\n",
    "browser = webdriver.Chrome(service=SS)\n",
    "\n",
    "# browser.maximize_window()\n",
    "\n",
    "#  打开 投稿系统  ieee-tii  根据自己的改正\n",
    "browser.get(IEEE_WB)\n",
    "\n",
    "# ==================↓不确定因素↓================== #\n",
    "time.sleep(10)\n",
    "#  点击 接受按钮（有时网页会弹出一个  接受按钮）\n",
    "browser.find_element(By.XPATH, '//*[@id=\"onetrust-close-btn-container\"]/button').click()\n",
    "# ==================↑不确定因素↑================== #\n",
    "\n",
    "#  输入 账号，密码，点击登陆  自行输入IEEE投稿 账号和密码\n",
    "browser.find_element(By.NAME, \"USERID\").send_keys(IEEE_ID)\n",
    "browser.find_element(By.NAME, \"PASSWORD\").send_keys(IEEE_PW)\n",
    "\n",
    "#  点击 登录按钮\n",
    "browser.find_element(By.ID, 'logInButton').click()\n",
    "\n",
    "#  点击 Author 按钮\n",
    "browser.find_element(By.XPATH, '//*[@id=\"header\"]/div/div[3]/div/ul/li[2]/a').click()"
   ]
  },
  {
   "cell_type": "code",
   "execution_count": 9,
   "id": "49755f68",
   "metadata": {},
   "outputs": [],
   "source": [
    "last_elements = ['Draft', 'Awaiting AE Assignment', 'Assign additional Reviewers', 'Awaiting Review Scores', 'AA']"
   ]
  },
  {
   "cell_type": "code",
   "execution_count": null,
   "id": "20a9ab8f",
   "metadata": {
    "code_folding": []
   },
   "outputs": [],
   "source": [
    "# for j in range(3):  #  循环两次\n",
    "while True:         # 一直循环\n",
    "    # 获取 状态个数\n",
    "    elements = browser.find_elements(By.CLASS_NAME, \"pagecontents\")\n",
    "    my_list = [element.text for element in elements]\n",
    "    my_listX = []\n",
    "    for i in my_list:\n",
    "        if i:\n",
    "            my_listX.append(i)\n",
    "    my_list = my_listX\n",
    "    if \"a revision has been submitted\" in my_list:\n",
    "        my_list = [item for item in my_list if item!= 'a revision has been submitted']\n",
    "  \n",
    "    if len(my_list)!= len(last_elements):\n",
    "        my_position = [i for i, x in enumerate(my_list) if x not in last_elements]\n",
    "        for m in my_position:\n",
    "            Title = browser.find_element(By.XPATH, f'//*[@id=\"queue_{m}\"]/td[3]').text\n",
    "            Title = Title.replace(\"View Submission\",\" \")\n",
    "            print(f\"New Submit \\n {Title}\")\n",
    "        \n",
    "            Emailtext = f\"New Submit \\n {Title}\"\n",
    "            send_myemail(Emailtext)\n",
    "            send_text_message(Emailtext)\n",
    "        last_elements = my_list[:] # 备份当前元素\n",
    "  \n",
    "    else:\n",
    "        # 检测 状态是否改变 \n",
    "        for i, element in enumerate(my_list):\n",
    "            if element != last_elements[i]:\n",
    "                Title = browser.find_element(By.XPATH, f'//*[@id=\"queue_{i}\"]/td[3]').text\n",
    "                Title = Title.replace(\"View Submission\",\" \")\n",
    "                print(f\"{Title} \\n Last: {last_elements[i]} \\n Now: {element}\")\n",
    "\n",
    "                Emailtext = f\"{Title} \\n Last: {last_elements[i]} \\n Now: {element}\"\n",
    "                send_text_message(Emailtext)\n",
    "                send_myemail(Emailtext)\n",
    "        last_elements = my_list[:]\n",
    "    \n",
    "    time.sleep(300)\n",
    "    browser.refresh()"
   ]
  },
  {
   "cell_type": "code",
   "execution_count": null,
   "id": "3dc479f3",
   "metadata": {},
   "outputs": [],
   "source": [
    "\n",
    "for j in range(3):  #  循环两次\n",
    "# while True:         # 一直循环\n",
    "    # 获取 状态个数\n",
    "    #elements = browser.find_elements(By.CLASS_NAME, \"pagecontents\")\n",
    "    #my_list = [element.text for element in elements]\n",
    "    my_list = ['','a','b','c','d']\n",
    "    my_listX = []\n",
    "    for i in my_list:\n",
    "        if i:\n",
    "            my_listX.append(i)\n",
    "    my_list = my_listX\n",
    "    if \"a\" in my_list:\n",
    "        my_list = [item for item in my_list if item!= 'a']\n",
    "  \n",
    "    if len(my_list)!= len(last_elements):\n",
    "        my_position = [i for i, x in enumerate(my_list) if x not in last_elements]\n",
    "        for m in my_position:\n",
    "            Title = browser.find_element(By.XPATH, f'//*[@id=\"queue_{m}\"]/td[3]').text\n",
    "            Title = Title.replace(\"View Submission\",\" \")\n",
    "            print(f\"New Submit \\n {Title}\")\n",
    "        \n",
    "            Emailtext = f\"New Submit \\n {Title}\"\n",
    "            send_myemail(Emailtext)\n",
    "            send_text_message(Emailtext)\n",
    "        last_elements = my_list[:] # 备份当前元素\n",
    "  \n",
    "    else:\n",
    "        # 检测 状态是否改变 \n",
    "        for i, element in enumerate(my_list):\n",
    "            if element != last_elements[i]:\n",
    "                Title = browser.find_element(By.XPATH, f'//*[@id=\"queue_{i}\"]/td[3]').text\n",
    "                Title = Title.replace(\"View Submission\",\" \")\n",
    "                print(f\"{Title} \\n Last: {last_elements[i]} \\n Now: {element}\")\n",
    "\n",
    "                Emailtext = f\"{Title} \\n Last: {last_elements[i]} \\n Now: {element}\"\n",
    "                send_text_message(Emailtext)\n",
    "                send_myemail(Emailtext)\n",
    "        last_elements = my_list[:]\n",
    "    \n",
    "    time.sleep(300)\n",
    "    browser.refresh()"
   ]
  },
  {
   "cell_type": "code",
   "execution_count": 17,
   "id": "66472014",
   "metadata": {},
   "outputs": [
    {
     "name": "stdout",
     "output_type": "stream",
     "text": [
      "['b', 'b', 'c', 'd']\n"
     ]
    }
   ],
   "source": [
    "my_list = ['a','b','b','c','','d']\n",
    "my_listX = []\n",
    "for i in my_list:\n",
    "    if i:\n",
    "        my_listX.append(i)\n",
    "my_list = my_listX\n",
    "if \"a\" in my_list:\n",
    "    my_list = [item for item in my_list if item!= 'a']\n",
    "print(my_list)"
   ]
  },
  {
   "cell_type": "code",
   "execution_count": 18,
   "id": "880a3c74",
   "metadata": {},
   "outputs": [
    {
     "name": "stdout",
     "output_type": "stream",
     "text": [
      "['b', 'b', 'c', 'd']\n",
      "[]\n"
     ]
    }
   ],
   "source": [
    "last_elements = ['b','c','d']\n",
    "if len(my_list)!= len(last_elements):\n",
    "    my_position = [i for i, x in enumerate(my_list) if x not in last_elements]\n",
    "    for m in my_position:\n",
    "        print(f\"New Submit \\n {m}\")\n",
    "    last_elements = my_list[:]\n",
    "print(my_list)\n",
    "print(my_position)"
   ]
  },
  {
   "cell_type": "code",
   "execution_count": null,
   "id": "05c8d666",
   "metadata": {},
   "outputs": [],
   "source": [
    "\n",
    "\n",
    "\n",
    "\n",
    "\n",
    "\n",
    "\n",
    "\n",
    "\n",
    "\n",
    "\n",
    "\n",
    "\n",
    "\n",
    "\n",
    "\n",
    "\n",
    "\n",
    "\n"
   ]
  }
 ],
 "metadata": {
  "kernelspec": {
   "display_name": "Python 3 (ipykernel)",
   "language": "python",
   "name": "python3"
  },
  "language_info": {
   "codemirror_mode": {
    "name": "ipython",
    "version": 3
   },
   "file_extension": ".py",
   "mimetype": "text/x-python",
   "name": "python",
   "nbconvert_exporter": "python",
   "pygments_lexer": "ipython3",
   "version": "3.9.12"
  },
  "latex_envs": {
   "LaTeX_envs_menu_present": true,
   "autoclose": false,
   "autocomplete": true,
   "bibliofile": "biblio.bib",
   "cite_by": "apalike",
   "current_citInitial": 1,
   "eqLabelWithNumbers": true,
   "eqNumInitial": 1,
   "hotkeys": {
    "equation": "Ctrl-E",
    "itemize": "Ctrl-I"
   },
   "labels_anchors": false,
   "latex_user_defs": false,
   "report_style_numbering": false,
   "user_envs_cfg": false
  },
  "nbTranslate": {
   "displayLangs": [
    "*"
   ],
   "hotkey": "alt-t",
   "langInMainMenu": true,
   "sourceLang": "en",
   "targetLang": "fr",
   "useGoogleTranslate": true
  },
  "toc": {
   "base_numbering": 1,
   "nav_menu": {},
   "number_sections": true,
   "sideBar": true,
   "skip_h1_title": false,
   "title_cell": "Table of Contents",
   "title_sidebar": "Contents",
   "toc_cell": false,
   "toc_position": {},
   "toc_section_display": true,
   "toc_window_display": false
  },
  "varInspector": {
   "cols": {
    "lenName": 16,
    "lenType": 16,
    "lenVar": 40
   },
   "kernels_config": {
    "python": {
     "delete_cmd_postfix": "",
     "delete_cmd_prefix": "del ",
     "library": "var_list.py",
     "varRefreshCmd": "print(var_dic_list())"
    },
    "r": {
     "delete_cmd_postfix": ") ",
     "delete_cmd_prefix": "rm(",
     "library": "var_list.r",
     "varRefreshCmd": "cat(var_dic_list()) "
    }
   },
   "types_to_exclude": [
    "module",
    "function",
    "builtin_function_or_method",
    "instance",
    "_Feature"
   ],
   "window_display": false
  }
 },
 "nbformat": 4,
 "nbformat_minor": 5
}
